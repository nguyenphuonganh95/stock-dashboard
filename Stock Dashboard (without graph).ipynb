{
 "cells": [
  {
   "cell_type": "code",
   "execution_count": null,
   "metadata": {},
   "outputs": [],
   "source": [
    "import panel as pn\n",
    "import altair as alt\n",
    "from altair import datum\n",
    "import pandas as pd\n",
    "from vega_datasets import data\n",
    "import datetime as dt\n",
    "import yahoo_fin\n",
    "from yahoo_fin.stock_info import *\n",
    "\n",
    "def get_data_for_ticker(ticker_name):\n",
    "    from2017 = get_data(ticker_name, start_date = '01/01/2017')\n",
    "    from2017['symbol'] = from2017['ticker']\n",
    "    from2017['price'] = from2017['close']\n",
    "    return from2017"
   ]
  },
  {
   "cell_type": "code",
   "execution_count": null,
   "metadata": {},
   "outputs": [],
   "source": [
    "#link gsheet to jupyter notebook\n",
    "\n",
    "import gspread\n",
    "from oauth2client.service_account import ServiceAccountCredentials\n",
    "\n",
    "def get_transaction_data_SGD():\n",
    "    scope = ['https://spreadsheets.google.com/feeds','https://www.googleapis.com/auth/drive']\n",
    "    creds = ServiceAccountCredentials.from_json_keyfile_name('employees_secret.json', scope)\n",
    "    client = gspread.authorize(creds)\n",
    "    sheet = client.open(\"Mew's Stock Portfolio Tracker\").worksheet(\"Transactions SGD\")\n",
    "    tracker = sheet.get_all_records()\n",
    "    sheet_data = pd.DataFrame(tracker)\n",
    "    transaction_data_SGD = sheet_data[sheet_data['Stock'] != '']\n",
    "    return transaction_data_SGD\n",
    "\n",
    "def get_transaction_data_USD():\n",
    "    scope = ['https://spreadsheets.google.com/feeds','https://www.googleapis.com/auth/drive']\n",
    "    creds = ServiceAccountCredentials.from_json_keyfile_name('employees_secret.json', scope)\n",
    "    client = gspread.authorize(creds)\n",
    "    sheet = client.open(\"Mew's Stock Portfolio Tracker\").worksheet(\"Transactions USD\")\n",
    "    tracker = sheet.get_all_records()\n",
    "    sheet_data = pd.DataFrame(tracker)\n",
    "    transaction_data_USD = sheet_data[sheet_data['Stock'] != '']\n",
    "    return transaction_data_USD\n",
    "\n",
    "transaction_data_SGD = get_transaction_data_SGD()\n",
    "transaction_data_USD = get_transaction_data_USD()"
   ]
  },
  {
   "cell_type": "code",
   "execution_count": null,
   "metadata": {},
   "outputs": [],
   "source": [
    "def get_cumulative_value(transaction_data, ticker_name, stock_name):\n",
    "    buy_sell_data = transaction_data[transaction_data['Type']!='Div']\n",
    "    buy_sell_data = buy_sell_data[buy_sell_data['Stock'] == stock_name]\n",
    "    buy_sell_data = buy_sell_data[['Date', 'Cumulative Units']]\n",
    "    buy_sell_data['Date'] = pd.to_datetime(buy_sell_data['Date'])\n",
    "    buy_sell_data.set_index(keys='Date', inplace=True)\n",
    "    date_range = pd.date_range(start='6/28/2017', end=dt.datetime.today())\n",
    "    buy_sell_data_new = buy_sell_data.reindex(index=date_range, labels='Date', method='ffill')\n",
    "    buy_sell_data_new['Price'] = get_data_for_ticker(ticker_name)['price']\n",
    "    buy_sell_data_new.fillna(inplace=True, method='ffill')\n",
    "    buy_sell_data_new['Value'] = buy_sell_data_new['Cumulative Units'] * buy_sell_data_new['Price']\n",
    "    return buy_sell_data_new.fillna(0)\n",
    "\n",
    "get_cumulative_value(transaction_data_USD, 'iwda.l', 'iShares Core MSCI World UCITS ETF')"
   ]
  },
  {
   "cell_type": "code",
   "execution_count": null,
   "metadata": {
    "scrolled": true
   },
   "outputs": [],
   "source": [
    "import forex_python\n",
    "from forex_python.converter import CurrencyRates\n",
    "c = CurrencyRates()\n",
    "c.get_rate('USD', 'SGD')"
   ]
  },
  {
   "cell_type": "code",
   "execution_count": null,
   "metadata": {},
   "outputs": [],
   "source": [
    "ticker_to_name_mapping_SGD = {\n",
    "    'jyeu.si': 'Lendlease REIT',\n",
    "    'g3b.si': 'Nikko AM STI ETF',\n",
    "    'a35.si': 'ABF Singapore Bond Index Fund',\n",
    "    'c52.si': 'ComfortDelGro',\n",
    "    'a17u.si': 'Ascendas REIT',\n",
    "}\n",
    "ticker_to_name_mapping_USD = {\n",
    "    'googl': 'Alphabet Inc. Class A',\n",
    "    'gld': 'SPRD Gold Trust',\n",
    "}\n",
    "\n",
    "sgd, usd = pd.Series([]), pd.Series([])\n",
    "for ticker, name in ticker_to_name_mapping_SGD.items():\n",
    "    sgd = sgd.add(get_cumulative_value(transaction_data_SGD, ticker, name)['Value'], fill_value=0)\n",
    "for ticker, name in ticker_to_name_mapping_USD.items():\n",
    "    usd = usd.add(get_cumulative_value(transaction_data_USD, ticker, name)['Value'], fill_value=0)\n",
    "port_value = pd.DataFrame({'Portfolio Value (SGD)': sgd, 'Portfolio Value (USD)': usd})\n",
    "port_value['Rate'] = c.get_rate('USD', 'SGD')\n",
    "port_value['Portfolio Value (Total SGD)'] = port_value['Portfolio Value (SGD)'] + port_value['Portfolio Value (USD)'] * port_value ['Rate']\n",
    "port_value"
   ]
  },
  {
   "cell_type": "code",
   "execution_count": null,
   "metadata": {},
   "outputs": [],
   "source": [
    "alt.renderers.enable('default')\n",
    "pn.extension('vega')\n",
    "\n",
    "# create list of options\n",
    "tickers = ['SGD', 'USD', 'Total SGD']\n",
    "# this creates the dropdown widget\n",
    "ticker_widget = pn.widgets.Select(name='Portfolio', options=tickers)\n",
    "# this creates the date range slider\n",
    "date_range_slider = pn.widgets.DateRangeSlider(\n",
    "    name='Date Range',\n",
    "    start=dt.datetime(2017, 1, 1), end=dt.datetime.today(),\n",
    "    value=(dt.datetime(2017, 1, 1), dt.datetime.today())\n",
    ")\n",
    "title = '### Portfolio Value Dashboard'\n",
    "subtitle = 'This dashboard allows you to select a date range to see portfolio value.'"
   ]
  },
  {
   "cell_type": "code",
   "execution_count": null,
   "metadata": {},
   "outputs": [],
   "source": [
    "@pn.depends(ticker_widget.param.value, date_range_slider.param.value)\n",
    "def get_plot_port_value(ticker, date_range):\n",
    "    df = port_value\n",
    "    df['Date'] = df.index\n",
    "    start_date = date_range_slider.value[0]\n",
    "    end_date = date_range_slider.value[1]\n",
    "    mask = (df['Date'] > start_date) & (df['Date'] <= end_date)\n",
    "    df = df.loc[mask]\n",
    "    y_label = 'Portfolio Value ({})'.format(ticker)\n",
    "    chart = alt.Chart(df).mark_line(color=\"#0c1944\").encode(\n",
    "        x='Date', y=y_label, tooltip=alt.Tooltip(['Date', y_label]))\n",
    "    return chart\n",
    "\n",
    "port_value_dashboard = pn.Row(pn.Column(title, subtitle, ticker_widget, date_range_slider), get_plot_port_value)\n",
    "port_value_dashboard.servable()"
   ]
  },
  {
   "cell_type": "code",
   "execution_count": null,
   "metadata": {},
   "outputs": [],
   "source": []
  }
 ],
 "metadata": {
  "kernelspec": {
   "display_name": "Python 3",
   "language": "python",
   "name": "python3"
  },
  "language_info": {
   "codemirror_mode": {
    "name": "ipython",
    "version": 3
   },
   "file_extension": ".py",
   "mimetype": "text/x-python",
   "name": "python",
   "nbconvert_exporter": "python",
   "pygments_lexer": "ipython3",
   "version": "3.7.1"
  }
 },
 "nbformat": 4,
 "nbformat_minor": 2
}
